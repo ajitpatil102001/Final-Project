{
  "nbformat": 4,
  "nbformat_minor": 0,
  "metadata": {
    "colab": {
      "name": "Samsung Project.ipynb",
      "provenance": [],
      "collapsed_sections": [],
      "authorship_tag": "ABX9TyPVZBEMw2/mq4b6lVBYI9Lc",
      "include_colab_link": true
    },
    "kernelspec": {
      "name": "python3",
      "display_name": "Python 3"
    },
    "language_info": {
      "name": "python"
    }
  },
  "cells": [
    {
      "cell_type": "markdown",
      "metadata": {
        "id": "view-in-github",
        "colab_type": "text"
      },
      "source": [
        "<a href=\"https://colab.research.google.com/github/ajitpatil102001/Final-Project/blob/main/Samsung_Project.ipynb\" target=\"_parent\"><img src=\"https://colab.research.google.com/assets/colab-badge.svg\" alt=\"Open In Colab\"/></a>"
      ]
    },
    {
      "cell_type": "markdown",
      "source": [
        "**Text Based Mood Profiling:Emotion Inteligence**"
      ],
      "metadata": {
        "id": "DjI0SED_DBA7"
      }
    },
    {
      "cell_type": "code",
      "execution_count": 2,
      "metadata": {
        "colab": {
          "base_uri": "https://localhost:8080/"
        },
        "id": "Hqm4oxg5C8a4",
        "outputId": "176708f1-1e3e-4c53-b52f-0207e0f78f71"
      },
      "outputs": [
        {
          "output_type": "stream",
          "name": "stdout",
          "text": [
            "[nltk_data] Downloading package stopwords to /root/nltk_data...\n",
            "[nltk_data]   Unzipping corpora/stopwords.zip.\n"
          ]
        }
      ],
      "source": [
        "import nltk #Natural lang toolkit\n",
        "nltk.download('stopwords')\n",
        "\n",
        "import pandas as pd# data analysis\n",
        "import seaborn as sns #Seaborn is a Python data visualization library based on matplotlib. It provides a high-level interface for drawing attractive and informative statistical\n",
        "import numpy as np#NumPy is a Python library used for working with arrays. It also has functions for working in domain of linear algebra, fourier transform, and matrices.\n",
        "import xgboost as xgb#XGBoost dominates structured or tabular datasets on classification and regression predictive modeling problems\n",
        "from tqdm import tqdm# tqdm is a library in Python which is used for creating Progress Meters or Progress Bars.\n",
        "from sklearn.svm import SVC\n",
        "from keras.models import Sequential\n",
        "from keras.layers.recurrent import LSTM, GRU\n",
        "from keras.layers.core import Dense, Activation, Dropout\n",
        "from keras.layers.embeddings import Embedding\n",
        "\n",
        "from keras.utils import np_utils\n",
        "from sklearn import preprocessing, decomposition, model_selection, metrics, pipeline\n",
        "from sklearn.model_selection import GridSearchCV\n",
        "from sklearn.feature_extraction.text import TfidfVectorizer, CountVectorizer\n",
        "from sklearn.decomposition import TruncatedSVD\n",
        "from sklearn.linear_model import LogisticRegression\n",
        "from sklearn.model_selection import train_test_split\n",
        "from sklearn.naive_bayes import MultinomialNB\n",
        "from keras.layers import GlobalMaxPooling1D, Conv1D, MaxPooling1D, Flatten, Bidirectional, SpatialDropout1D\n",
        "from keras.preprocessing import sequence, text\n",
        "from keras.callbacks import EarlyStopping\n",
        "from nltk import word_tokenize\n",
        "from nltk.corpus import stopwords"
      ]
    },
    {
      "cell_type": "code",
      "source": [
        "train = pd.read_csv('/content/sample_data/hello.csv')\n",
        "cv = pd.read_csv('/content/sample_data/hello.csv')\n",
        "test = pd.read_csv('/content/sample_data/hello.csv')"
      ],
      "metadata": {
        "id": "b9o8sPNdE7KI"
      },
      "execution_count": 3,
      "outputs": []
    },
    {
      "cell_type": "code",
      "source": [
        "train.shape, cv.shape , test.shape"
      ],
      "metadata": {
        "colab": {
          "base_uri": "https://localhost:8080/"
        },
        "id": "725nuFruDn6W",
        "outputId": "ff644632-2293-4630-c61b-c06895ad3755"
      },
      "execution_count": null,
      "outputs": [
        {
          "output_type": "execute_result",
          "data": {
            "text/plain": [
              "((9989, 4), (9989, 4), (9989, 4))"
            ]
          },
          "metadata": {},
          "execution_count": 16
        }
      ]
    },
    {
      "cell_type": "code",
      "source": [
        "test.columns\n"
      ],
      "metadata": {
        "colab": {
          "base_uri": "https://localhost:8080/"
        },
        "id": "xqifbVDoF402",
        "outputId": "c57214fb-677a-4c45-8d9d-c69de21b2b77"
      },
      "execution_count": null,
      "outputs": [
        {
          "output_type": "execute_result",
          "data": {
            "text/plain": [
              "Index(['Statements', 'Emotion', 'StartTime', 'EndTime'], dtype='object')"
            ]
          },
          "metadata": {},
          "execution_count": 27
        }
      ]
    },
    {
      "cell_type": "code",
      "source": [
        "train.columns"
      ],
      "metadata": {
        "colab": {
          "base_uri": "https://localhost:8080/"
        },
        "id": "qktnYXmRIdtE",
        "outputId": "3df18da2-840e-4262-cbe0-b3a543e3f92a"
      },
      "execution_count": null,
      "outputs": [
        {
          "output_type": "execute_result",
          "data": {
            "text/plain": [
              "Index(['Statements', 'Emotion', 'StartTime', 'EndTime'], dtype='object')"
            ]
          },
          "metadata": {},
          "execution_count": 19
        }
      ]
    },
    {
      "cell_type": "code",
      "source": [
        "cv.columns"
      ],
      "metadata": {
        "colab": {
          "base_uri": "https://localhost:8080/"
        },
        "id": "O4z1gNJKXEYN",
        "outputId": "dd2f8323-558e-4f61-b56f-3938f2149b69"
      },
      "execution_count": null,
      "outputs": [
        {
          "output_type": "execute_result",
          "data": {
            "text/plain": [
              "Index(['Statements', 'Emotion', 'StartTime', 'EndTime'], dtype='object')"
            ]
          },
          "metadata": {},
          "execution_count": 39
        }
      ]
    },
    {
      "cell_type": "code",
      "source": [
        "train.head()"
      ],
      "metadata": {
        "colab": {
          "base_uri": "https://localhost:8080/",
          "height": 206
        },
        "id": "I_XRafgPIgCq",
        "outputId": "17043883-0703-46b8-c93b-98f8a8abc353"
      },
      "execution_count": 5,
      "outputs": [
        {
          "output_type": "execute_result",
          "data": {
            "text/html": [
              "\n",
              "  <div id=\"df-e833a3ab-d0b3-4cfb-bfa5-387033c57f64\">\n",
              "    <div class=\"colab-df-container\">\n",
              "      <div>\n",
              "<style scoped>\n",
              "    .dataframe tbody tr th:only-of-type {\n",
              "        vertical-align: middle;\n",
              "    }\n",
              "\n",
              "    .dataframe tbody tr th {\n",
              "        vertical-align: top;\n",
              "    }\n",
              "\n",
              "    .dataframe thead th {\n",
              "        text-align: right;\n",
              "    }\n",
              "</style>\n",
              "<table border=\"1\" class=\"dataframe\">\n",
              "  <thead>\n",
              "    <tr style=\"text-align: right;\">\n",
              "      <th></th>\n",
              "      <th>Statements</th>\n",
              "      <th>Emotion</th>\n",
              "      <th>StartTime</th>\n",
              "      <th>EndTime</th>\n",
              "    </tr>\n",
              "  </thead>\n",
              "  <tbody>\n",
              "    <tr>\n",
              "      <th>0</th>\n",
              "      <td>also I was the point person on my companys tr...</td>\n",
              "      <td>neutral</td>\n",
              "      <td>00:16:16,059</td>\n",
              "      <td>00:16:21,731</td>\n",
              "    </tr>\n",
              "    <tr>\n",
              "      <th>1</th>\n",
              "      <td>You mustve had your hands full.</td>\n",
              "      <td>neutral</td>\n",
              "      <td>00:16:21,940</td>\n",
              "      <td>00:16:23,442</td>\n",
              "    </tr>\n",
              "    <tr>\n",
              "      <th>2</th>\n",
              "      <td>That I did. That I did.</td>\n",
              "      <td>neutral</td>\n",
              "      <td>00:16:23,442</td>\n",
              "      <td>00:16:26,389</td>\n",
              "    </tr>\n",
              "    <tr>\n",
              "      <th>3</th>\n",
              "      <td>So lets talk a little bit about your duties.</td>\n",
              "      <td>neutral</td>\n",
              "      <td>00:16:26,820</td>\n",
              "      <td>00:16:29,572</td>\n",
              "    </tr>\n",
              "    <tr>\n",
              "      <th>4</th>\n",
              "      <td>My duties?  All right.</td>\n",
              "      <td>surprise</td>\n",
              "      <td>00:16:34,452</td>\n",
              "      <td>00:16:40,917</td>\n",
              "    </tr>\n",
              "  </tbody>\n",
              "</table>\n",
              "</div>\n",
              "      <button class=\"colab-df-convert\" onclick=\"convertToInteractive('df-e833a3ab-d0b3-4cfb-bfa5-387033c57f64')\"\n",
              "              title=\"Convert this dataframe to an interactive table.\"\n",
              "              style=\"display:none;\">\n",
              "        \n",
              "  <svg xmlns=\"http://www.w3.org/2000/svg\" height=\"24px\"viewBox=\"0 0 24 24\"\n",
              "       width=\"24px\">\n",
              "    <path d=\"M0 0h24v24H0V0z\" fill=\"none\"/>\n",
              "    <path d=\"M18.56 5.44l.94 2.06.94-2.06 2.06-.94-2.06-.94-.94-2.06-.94 2.06-2.06.94zm-11 1L8.5 8.5l.94-2.06 2.06-.94-2.06-.94L8.5 2.5l-.94 2.06-2.06.94zm10 10l.94 2.06.94-2.06 2.06-.94-2.06-.94-.94-2.06-.94 2.06-2.06.94z\"/><path d=\"M17.41 7.96l-1.37-1.37c-.4-.4-.92-.59-1.43-.59-.52 0-1.04.2-1.43.59L10.3 9.45l-7.72 7.72c-.78.78-.78 2.05 0 2.83L4 21.41c.39.39.9.59 1.41.59.51 0 1.02-.2 1.41-.59l7.78-7.78 2.81-2.81c.8-.78.8-2.07 0-2.86zM5.41 20L4 18.59l7.72-7.72 1.47 1.35L5.41 20z\"/>\n",
              "  </svg>\n",
              "      </button>\n",
              "      \n",
              "  <style>\n",
              "    .colab-df-container {\n",
              "      display:flex;\n",
              "      flex-wrap:wrap;\n",
              "      gap: 12px;\n",
              "    }\n",
              "\n",
              "    .colab-df-convert {\n",
              "      background-color: #E8F0FE;\n",
              "      border: none;\n",
              "      border-radius: 50%;\n",
              "      cursor: pointer;\n",
              "      display: none;\n",
              "      fill: #1967D2;\n",
              "      height: 32px;\n",
              "      padding: 0 0 0 0;\n",
              "      width: 32px;\n",
              "    }\n",
              "\n",
              "    .colab-df-convert:hover {\n",
              "      background-color: #E2EBFA;\n",
              "      box-shadow: 0px 1px 2px rgba(60, 64, 67, 0.3), 0px 1px 3px 1px rgba(60, 64, 67, 0.15);\n",
              "      fill: #174EA6;\n",
              "    }\n",
              "\n",
              "    [theme=dark] .colab-df-convert {\n",
              "      background-color: #3B4455;\n",
              "      fill: #D2E3FC;\n",
              "    }\n",
              "\n",
              "    [theme=dark] .colab-df-convert:hover {\n",
              "      background-color: #434B5C;\n",
              "      box-shadow: 0px 1px 3px 1px rgba(0, 0, 0, 0.15);\n",
              "      filter: drop-shadow(0px 1px 2px rgba(0, 0, 0, 0.3));\n",
              "      fill: #FFFFFF;\n",
              "    }\n",
              "  </style>\n",
              "\n",
              "      <script>\n",
              "        const buttonEl =\n",
              "          document.querySelector('#df-e833a3ab-d0b3-4cfb-bfa5-387033c57f64 button.colab-df-convert');\n",
              "        buttonEl.style.display =\n",
              "          google.colab.kernel.accessAllowed ? 'block' : 'none';\n",
              "\n",
              "        async function convertToInteractive(key) {\n",
              "          const element = document.querySelector('#df-e833a3ab-d0b3-4cfb-bfa5-387033c57f64');\n",
              "          const dataTable =\n",
              "            await google.colab.kernel.invokeFunction('convertToInteractive',\n",
              "                                                     [key], {});\n",
              "          if (!dataTable) return;\n",
              "\n",
              "          const docLinkHtml = 'Like what you see? Visit the ' +\n",
              "            '<a target=\"_blank\" href=https://colab.research.google.com/notebooks/data_table.ipynb>data table notebook</a>'\n",
              "            + ' to learn more about interactive tables.';\n",
              "          element.innerHTML = '';\n",
              "          dataTable['output_type'] = 'display_data';\n",
              "          await google.colab.output.renderOutput(dataTable, element);\n",
              "          const docLink = document.createElement('div');\n",
              "          docLink.innerHTML = docLinkHtml;\n",
              "          element.appendChild(docLink);\n",
              "        }\n",
              "      </script>\n",
              "    </div>\n",
              "  </div>\n",
              "  "
            ],
            "text/plain": [
              "                                          Statements  ...       EndTime\n",
              "0  also I was the point person on my companys tr...  ...  00:16:21,731\n",
              "1                   You mustve had your hands full.  ...  00:16:23,442\n",
              "2                            That I did. That I did.  ...  00:16:26,389\n",
              "3      So lets talk a little bit about your duties.  ...  00:16:29,572\n",
              "4                             My duties?  All right.  ...  00:16:40,917\n",
              "\n",
              "[5 rows x 4 columns]"
            ]
          },
          "metadata": {},
          "execution_count": 5
        }
      ]
    },
    {
      "cell_type": "code",
      "source": [
        "ax = sns.countplot(x=train['Emotion'], data=train)\n",
        "print(train['Emotion'].value_counts())"
      ],
      "metadata": {
        "colab": {
          "base_uri": "https://localhost:8080/"
        },
        "id": "8yqE0B49Itjy",
        "outputId": "78e000f9-4f55-4006-ffe4-83d91fa26fc9"
      },
      "execution_count": null,
      "outputs": [
        {
          "output_type": "stream",
          "name": "stdout",
          "text": [
            "neutral     4709\n",
            "joy         1743\n",
            "surprise    1205\n",
            "anger       1109\n",
            "sadness      684\n",
            "disgust      271\n",
            "fear         268\n",
            "Name: Emotion, dtype: int64\n"
          ]
        }
      ]
    },
    {
      "cell_type": "code",
      "source": [
        "train.info()"
      ],
      "metadata": {
        "colab": {
          "base_uri": "https://localhost:8080/"
        },
        "id": "lc5EzYspJ0Ul",
        "outputId": "c08bd14e-3369-41e2-cd7b-a359df7cff7b"
      },
      "execution_count": null,
      "outputs": [
        {
          "output_type": "stream",
          "name": "stdout",
          "text": [
            "<class 'pandas.core.frame.DataFrame'>\n",
            "RangeIndex: 9989 entries, 0 to 9988\n",
            "Data columns (total 4 columns):\n",
            " #   Column      Non-Null Count  Dtype \n",
            "---  ------      --------------  ----- \n",
            " 0   Statements  9989 non-null   object\n",
            " 1   Emotion     9989 non-null   object\n",
            " 2   StartTime   9989 non-null   object\n",
            " 3   EndTime     9989 non-null   object\n",
            "dtypes: object(4)\n",
            "memory usage: 312.3+ KB\n"
          ]
        }
      ]
    },
    {
      "cell_type": "code",
      "source": [
        "test.info()"
      ],
      "metadata": {
        "colab": {
          "base_uri": "https://localhost:8080/"
        },
        "id": "CJn0iZjcKiFq",
        "outputId": "e487e95d-3d60-4549-e841-d78c06e58327"
      },
      "execution_count": null,
      "outputs": [
        {
          "output_type": "stream",
          "name": "stdout",
          "text": [
            "<class 'pandas.core.frame.DataFrame'>\n",
            "RangeIndex: 9989 entries, 0 to 9988\n",
            "Data columns (total 4 columns):\n",
            " #   Column      Non-Null Count  Dtype \n",
            "---  ------      --------------  ----- \n",
            " 0   Statements  9989 non-null   object\n",
            " 1   Emotion     9989 non-null   object\n",
            " 2   StartTime   9989 non-null   object\n",
            " 3   EndTime     9989 non-null   object\n",
            "dtypes: object(4)\n",
            "memory usage: 312.3+ KB\n"
          ]
        }
      ]
    },
    {
      "cell_type": "code",
      "source": [
        "X_train , y_train = train[['Statements']] , train[['Emotion']]\n",
        "X_test , y_test = test[['Statements']] , test[['Emotion']]"
      ],
      "metadata": {
        "id": "eDcWUvCMKsXF"
      },
      "execution_count": null,
      "outputs": []
    },
    {
      "cell_type": "code",
      "source": [
        "lbl_enc = preprocessing.LabelEncoder()\n",
        "y_train_enc = lbl_enc.fit_transform(y_train.Emotion.values)\n",
        "y_test_enc = lbl_enc.transform(y_test.Emotion.values)"
      ],
      "metadata": {
        "id": "p4xMOepnLFqW"
      },
      "execution_count": null,
      "outputs": []
    },
    {
      "cell_type": "code",
      "source": [
        "y_train.Emotion.values[1:100]"
      ],
      "metadata": {
        "colab": {
          "base_uri": "https://localhost:8080/"
        },
        "id": "aILClmmKLQPe",
        "outputId": "6f5b7826-508d-4aac-f7db-94aaa310bb6b"
      },
      "execution_count": null,
      "outputs": [
        {
          "output_type": "execute_result",
          "data": {
            "text/plain": [
              "array(['neutral', 'neutral', 'neutral', 'surprise', 'neutral', 'neutral',\n",
              "       'neutral', 'neutral', 'neutral', 'fear', 'neutral', 'surprise',\n",
              "       'neutral', 'surprise', 'sadness', 'surprise', 'fear', 'neutral',\n",
              "       'neutral', 'neutral', 'neutral', 'neutral', 'joy', 'sadness',\n",
              "       'surprise', 'neutral', 'disgust', 'sadness', 'neutral', 'neutral',\n",
              "       'joy', 'neutral', 'joy', 'surprise', 'surprise', 'surprise',\n",
              "       'neutral', 'neutral', 'neutral', 'surprise', 'sadness', 'neutral',\n",
              "       'surprise', 'joy', 'surprise', 'neutral', 'neutral', 'neutral',\n",
              "       'neutral', 'neutral', 'joy', 'joy', 'joy', 'sadness', 'neutral',\n",
              "       'neutral', 'neutral', 'neutral', 'neutral', 'neutral', 'surprise',\n",
              "       'joy', 'surprise', 'joy', 'neutral', 'neutral', 'anger', 'joy',\n",
              "       'neutral', 'surprise', 'anger', 'anger', 'anger', 'neutral',\n",
              "       'neutral', 'sadness', 'sadness', 'sadness', 'surprise', 'anger',\n",
              "       'anger', 'anger', 'anger', 'neutral', 'anger', 'neutral',\n",
              "       'neutral', 'neutral', 'neutral', 'joy', 'neutral', 'joy',\n",
              "       'neutral', 'neutral', 'neutral', 'joy', 'neutral', 'neutral',\n",
              "       'neutral'], dtype=object)"
            ]
          },
          "metadata": {},
          "execution_count": 36
        }
      ]
    },
    {
      "cell_type": "code",
      "source": [
        "import re\n",
        "\n",
        "### Dataset Preprocessing training set\n",
        "from nltk.stem.porter import PorterStemmer\n",
        "ps = PorterStemmer()\n",
        "train_corpus = []\n",
        "for i in range(0, len(X_train)):\n",
        "    review = re.sub('[^a-zA-Z]', ' ', X_train['Statements'][i])\n",
        "    review = review.lower()\n",
        "    review = review.split()\n",
        "    \n",
        "    review = [ps.stem(word) for word in review if not word in stopwords.words('english')]\n",
        "    review = ' '.join(review)\n",
        "    train_corpus.append(review)"
      ],
      "metadata": {
        "id": "RRsVMx8rLjhk"
      },
      "execution_count": null,
      "outputs": []
    },
    {
      "cell_type": "code",
      "source": [
        "import re\n",
        "\n",
        "### Dataset Preprocessing test set\n",
        "from nltk.stem.porter import PorterStemmer\n",
        "ps = PorterStemmer()\n",
        "test_corpus = []\n",
        "for i in range(0, len(X_test)):\n",
        "    review = re.sub('[^a-zA-Z]', ' ', X_test['Statements'][i])\n",
        "    review = review.lower()\n",
        "    review = review.split()\n",
        "    \n",
        "    review = [ps.stem(word) for word in review if not word in stopwords.words('english')]\n",
        "    review = ' '.join(review)\n",
        "    test_corpus.append(review)"
      ],
      "metadata": {
        "id": "YvIl5QlpWK6t"
      },
      "execution_count": null,
      "outputs": []
    },
    {
      "cell_type": "markdown",
      "source": [
        ""
      ],
      "metadata": {
        "id": "FGVLk_wQC9Hj"
      }
    }
  ]
}